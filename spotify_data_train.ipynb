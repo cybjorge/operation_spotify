{
 "cells": [
  {
   "cell_type": "code",
   "execution_count": 20,
   "metadata": {
    "collapsed": true
   },
   "outputs": [
    {
     "data": {
      "text/plain": "id                          0\nartist_id                   0\nartist                      0\nname                        0\npopularity                  0\nrelease_date                0\nduration_ms                 0\nexplicit                    0\ndanceability                0\nenergy                      0\nkey                         0\nloudness                    0\nmode                        0\nspeechiness                 0\nacousticness                0\ninstrumentalness            0\nliveness                    0\nvalence                     0\ntempo                       0\nartist_genres               0\nartist_followers            1\nurl                         0\nplaylist_id                 0\nplaylist_description    13802\nplaylist_name              21\nplaylist_url                0\nquery                       0\ndtype: int64"
     },
     "execution_count": 20,
     "metadata": {},
     "output_type": "execute_result"
    }
   ],
   "source": [
    "import pandas as pd\n",
    "import numpy as np\n",
    "data=pd.read_csv('./data/spotify_train.csv')\n",
    "\n",
    "data\n",
    "data.isnull().sum()"
   ]
  },
  {
   "cell_type": "code",
   "execution_count": 21,
   "outputs": [
    {
     "data": {
      "text/plain": "id                      0\nartist_id               0\nartist                  0\nname                    0\npopularity              0\nrelease_date            0\nduration_ms             0\nexplicit                0\ndanceability            0\nenergy                  0\nkey                     0\nloudness                0\nmode                    0\nspeechiness             0\nacousticness            0\ninstrumentalness        0\nliveness                0\nvalence                 0\ntempo                   0\nartist_genres           0\nartist_followers        0\nurl                     0\nplaylist_id             0\nplaylist_description    0\nplaylist_name           0\nplaylist_url            0\nquery                   0\ndtype: int64"
     },
     "execution_count": 21,
     "metadata": {},
     "output_type": "execute_result"
    }
   ],
   "source": [
    "data=data[~data.playlist_description.isnull()].copy()\n",
    "data.isnull().sum()"
   ],
   "metadata": {
    "collapsed": false,
    "pycharm": {
     "name": "#%%\n"
    }
   }
  },
  {
   "cell_type": "code",
   "execution_count": 22,
   "outputs": [
    {
     "data": {
      "text/plain": "                           id               artist_id                artist  \\\n0      0CQskMydQ8AhtKhJUAolvE  5nJRL0Qfseg7ZJGbT2eVrA         Samuel Lindon   \n1      4bvVvzmt4s1saVh2Es97Yx  2iojnBLj0qIMiKPvVhLnsH            Trey Songz   \n3      0groAVSbbqYBkuSHt4jXF0  7EyzyrMNgqiK8bMrbkOT9l                Sidoka   \n4      7CiZj5S4E5FVboR0yLVLzc  0YE17nrGKTk37bcKpKVUvi             Uk Apache   \n6      35IlONRZh770GBVlnU1lc9  6ryGFEDvM7703b889hPUFZ                 Sully   \n...                       ...                     ...                   ...   \n44767  47UyzXwzG856HaN8jwbadq  09hVIj6vWgoCDtT03h8ZCa  A Tribe Called Quest   \n44768  74FRlDfGO4Vj3WJXr6drzz  0jNDKefhfSbLR9sFvcPLHo              San Holo   \n44771  4IBbOnEHtnxQri2hsqJMim  18TNVFTJ6WfeicsMRrdJHI                  Metz   \n44772  2b0ki4EJ3WhObwx30dyIdf  5Vp7LqcfAtx2U1RfIX8i7r           Point North   \n44773  3Joxx2i2eMuZOSKrTh6CVy  0oSGxfWSnnOXhD2fKuz2Gy           David Bowie   \n\n                                                    name  popularity  \\\n0                                             Tallis One          52   \n1                         Wrist Watch (feat. Tory Lanez)          41   \n3                                                     LV          52   \n4      Original Nuttah 25 (feat. IRAH) - Chase & Stat...          55   \n6                                                 Vérité          33   \n...                                                  ...         ...   \n44767          Can I Kick It? - Extended Boilerhouse Mix          22   \n44768  when ur around (feat. San Holo, Taska Black, F...          31   \n44771                                       Drained Lake           0   \n44772                 Into The Dark (feat. Kellin Quinn)           0   \n44773  Hallo Spaceboy (with the Pet Shop Boys) - Pet ...          23   \n\n      release_date  duration_ms  explicit  danceability  energy  ...  valence  \\\n0       2016-12-12       117401     False         0.410  0.0199  ...   0.1780   \n1       2018-11-27       206813      True         0.665  0.6290  ...   0.5060   \n3       2019-07-11       154575      True         0.849  0.7110  ...   0.4520   \n4       2019-08-23       223454     False         0.425  0.8940  ...   0.1710   \n6       2019-12-13       348571     False         0.474  0.8420  ...   0.2020   \n...            ...          ...       ...           ...     ...  ...      ...   \n44767   1992-06-01       399640     False         0.850  0.5390  ...   0.7620   \n44768   2021-10-15       191367     False         0.344  0.6390  ...   0.1090   \n44771   2017-08-02       184894     False         0.285  0.9750  ...   0.0382   \n44772   2020-01-13       198000     False         0.544  0.9180  ...   0.6000   \n44773   2016-11-11       269440     False         0.539  0.9380  ...   0.2860   \n\n         tempo                                      artist_genres  \\\n0      107.378  ['background music', 'background piano', 'calm...   \n1      157.797  ['dance pop', 'hip pop', 'pop', 'r&b', 'southe...   \n3      125.173                                    ['rap mineiro']   \n4      115.412                                   ['ragga jungle']   \n6      167.798  ['bass music', 'classic dubstep', 'deep dubste...   \n...        ...                                                ...   \n44767   96.629  ['alternative hip hop', 'conscious hip hop', '...   \n44768  127.971  ['edm', 'electronic trap', 'electropop', 'futu...   \n44771   88.926  ['canadian punk', 'garage psych', 'indie punk'...   \n44772   95.021                         ['anthem emo', 'pop punk']   \n44773  129.622  ['art rock', 'classic rock', 'glam rock', 'per...   \n\n       artist_followers                                                url  \\\n0                7696.0  https://open.spotify.com/track/0CQskMydQ8AhtKh...   \n1             6138988.0  https://open.spotify.com/track/4bvVvzmt4s1saVh...   \n3              670819.0  https://open.spotify.com/track/0groAVSbbqYBkuS...   \n4                5395.0  https://open.spotify.com/track/7CiZj5S4E5FVboR...   \n6               13485.0  https://open.spotify.com/track/35IlONRZh770GBV...   \n...                 ...                                                ...   \n44767         1543826.0  https://open.spotify.com/track/47UyzXwzG856HaN...   \n44768          642392.0  https://open.spotify.com/track/74FRlDfGO4Vj3WJ...   \n44771           63310.0  https://open.spotify.com/track/4IBbOnEHtnxQri2...   \n44772           73050.0  https://open.spotify.com/track/2b0ki4EJ3WhObwx...   \n44773         7344090.0  https://open.spotify.com/track/3Joxx2i2eMuZOSK...   \n\n                  playlist_id  \\\n0      0o5K7Fn8y52w7jsBFOt1Mh   \n1      37i9dQZF1DX5xFQkXoZxdM   \n3      6N1GEzdtITUo41TLkUPA0O   \n4      3NzPH535hkxgMcUlHHcTIj   \n6      75zVSgFBHBMKniLe2HJyCE   \n...                       ...   \n44767  35VXF4KmO9u3IhtlKtpOee   \n44768  37i9dQZF1DXa41CMuUARjl   \n44771  4IhH6BT32s34nfWbYzsKM4   \n44772  37i9dQZF1DWZkHEX2YHpDV   \n44773  5daZAnlFSoDcysEafzysLx   \n\n                                    playlist_description  \\\n0      Beautiful quiet classical music for soothing, ...   \n1      This is the essential collection of songs from...   \n3                                          ig @lucaziell   \n4      Quality over quantity. DnB face guaranteed. My...   \n6      Selección de Drum and Bass para sobrellevar la...   \n...                                                  ...   \n44767  Selection of the best remixes from the 90s Gol...   \n44768  This week's handpicked new <a href=\"spotify:ge...   \n44771  Trashy grunge riffs, dirty garage rock, fuzzy ...   \n44772  Call it pop-punk, emo, post-hardcore, whatever...   \n44773  Music from the Showtime TV-series Queer As Fol...   \n\n                                           playlist_name  \\\n0      Quiet Classical Music / Clásica Musica Instrum...   \n1                                    This Is: Trey Songz   \n3                              Quer voar | RAP TRAP 2021   \n4               Drum & Bass 🤯 Heavy and Dark Necessities   \n6                             Drum and Bass 4 quarantine   \n...                                                  ...   \n44767  90s Hip Hop Remixes - Best 90s Hiphop Remixes ...   \n44768                                Friday Cratediggers   \n44771  GARAGE ROCK : Grunge, Punk, Garage Rock, Noise...   \n44772                                          The Scene   \n44773                        Queer As Folk: the Playlist   \n\n                                            playlist_url         query  \n0      https://open.spotify.com/playlist/0o5K7Fn8y52w...     classical  \n1      https://open.spotify.com/playlist/37i9dQZF1DX5...  spotify_user  \n3      https://open.spotify.com/playlist/6N1GEzdtITUo...           rap  \n4      https://open.spotify.com/playlist/3NzPH535hkxg...   drum_n_bass  \n6      https://open.spotify.com/playlist/75zVSgFBHBMK...   drum_n_bass  \n...                                                  ...           ...  \n44767  https://open.spotify.com/playlist/35VXF4KmO9u3...       hip_hop  \n44768  https://open.spotify.com/playlist/37i9dQZF1DXa...  spotify_user  \n44771  https://open.spotify.com/playlist/4IhH6BT32s34...   drum_n_bass  \n44772  https://open.spotify.com/playlist/37i9dQZF1DWZ...  spotify_user  \n44773  https://open.spotify.com/playlist/5daZAnlFSoDc...          folk  \n\n[29820 rows x 27 columns]",
      "text/html": "<div>\n<style scoped>\n    .dataframe tbody tr th:only-of-type {\n        vertical-align: middle;\n    }\n\n    .dataframe tbody tr th {\n        vertical-align: top;\n    }\n\n    .dataframe thead th {\n        text-align: right;\n    }\n</style>\n<table border=\"1\" class=\"dataframe\">\n  <thead>\n    <tr style=\"text-align: right;\">\n      <th></th>\n      <th>id</th>\n      <th>artist_id</th>\n      <th>artist</th>\n      <th>name</th>\n      <th>popularity</th>\n      <th>release_date</th>\n      <th>duration_ms</th>\n      <th>explicit</th>\n      <th>danceability</th>\n      <th>energy</th>\n      <th>...</th>\n      <th>valence</th>\n      <th>tempo</th>\n      <th>artist_genres</th>\n      <th>artist_followers</th>\n      <th>url</th>\n      <th>playlist_id</th>\n      <th>playlist_description</th>\n      <th>playlist_name</th>\n      <th>playlist_url</th>\n      <th>query</th>\n    </tr>\n  </thead>\n  <tbody>\n    <tr>\n      <th>0</th>\n      <td>0CQskMydQ8AhtKhJUAolvE</td>\n      <td>5nJRL0Qfseg7ZJGbT2eVrA</td>\n      <td>Samuel Lindon</td>\n      <td>Tallis One</td>\n      <td>52</td>\n      <td>2016-12-12</td>\n      <td>117401</td>\n      <td>False</td>\n      <td>0.410</td>\n      <td>0.0199</td>\n      <td>...</td>\n      <td>0.1780</td>\n      <td>107.378</td>\n      <td>['background music', 'background piano', 'calm...</td>\n      <td>7696.0</td>\n      <td>https://open.spotify.com/track/0CQskMydQ8AhtKh...</td>\n      <td>0o5K7Fn8y52w7jsBFOt1Mh</td>\n      <td>Beautiful quiet classical music for soothing, ...</td>\n      <td>Quiet Classical Music / Clásica Musica Instrum...</td>\n      <td>https://open.spotify.com/playlist/0o5K7Fn8y52w...</td>\n      <td>classical</td>\n    </tr>\n    <tr>\n      <th>1</th>\n      <td>4bvVvzmt4s1saVh2Es97Yx</td>\n      <td>2iojnBLj0qIMiKPvVhLnsH</td>\n      <td>Trey Songz</td>\n      <td>Wrist Watch (feat. Tory Lanez)</td>\n      <td>41</td>\n      <td>2018-11-27</td>\n      <td>206813</td>\n      <td>True</td>\n      <td>0.665</td>\n      <td>0.6290</td>\n      <td>...</td>\n      <td>0.5060</td>\n      <td>157.797</td>\n      <td>['dance pop', 'hip pop', 'pop', 'r&amp;b', 'southe...</td>\n      <td>6138988.0</td>\n      <td>https://open.spotify.com/track/4bvVvzmt4s1saVh...</td>\n      <td>37i9dQZF1DX5xFQkXoZxdM</td>\n      <td>This is the essential collection of songs from...</td>\n      <td>This Is: Trey Songz</td>\n      <td>https://open.spotify.com/playlist/37i9dQZF1DX5...</td>\n      <td>spotify_user</td>\n    </tr>\n    <tr>\n      <th>3</th>\n      <td>0groAVSbbqYBkuSHt4jXF0</td>\n      <td>7EyzyrMNgqiK8bMrbkOT9l</td>\n      <td>Sidoka</td>\n      <td>LV</td>\n      <td>52</td>\n      <td>2019-07-11</td>\n      <td>154575</td>\n      <td>True</td>\n      <td>0.849</td>\n      <td>0.7110</td>\n      <td>...</td>\n      <td>0.4520</td>\n      <td>125.173</td>\n      <td>['rap mineiro']</td>\n      <td>670819.0</td>\n      <td>https://open.spotify.com/track/0groAVSbbqYBkuS...</td>\n      <td>6N1GEzdtITUo41TLkUPA0O</td>\n      <td>ig @lucaziell</td>\n      <td>Quer voar | RAP TRAP 2021</td>\n      <td>https://open.spotify.com/playlist/6N1GEzdtITUo...</td>\n      <td>rap</td>\n    </tr>\n    <tr>\n      <th>4</th>\n      <td>7CiZj5S4E5FVboR0yLVLzc</td>\n      <td>0YE17nrGKTk37bcKpKVUvi</td>\n      <td>Uk Apache</td>\n      <td>Original Nuttah 25 (feat. IRAH) - Chase &amp; Stat...</td>\n      <td>55</td>\n      <td>2019-08-23</td>\n      <td>223454</td>\n      <td>False</td>\n      <td>0.425</td>\n      <td>0.8940</td>\n      <td>...</td>\n      <td>0.1710</td>\n      <td>115.412</td>\n      <td>['ragga jungle']</td>\n      <td>5395.0</td>\n      <td>https://open.spotify.com/track/7CiZj5S4E5FVboR...</td>\n      <td>3NzPH535hkxgMcUlHHcTIj</td>\n      <td>Quality over quantity. DnB face guaranteed. My...</td>\n      <td>Drum &amp; Bass 🤯 Heavy and Dark Necessities</td>\n      <td>https://open.spotify.com/playlist/3NzPH535hkxg...</td>\n      <td>drum_n_bass</td>\n    </tr>\n    <tr>\n      <th>6</th>\n      <td>35IlONRZh770GBVlnU1lc9</td>\n      <td>6ryGFEDvM7703b889hPUFZ</td>\n      <td>Sully</td>\n      <td>Vérité</td>\n      <td>33</td>\n      <td>2019-12-13</td>\n      <td>348571</td>\n      <td>False</td>\n      <td>0.474</td>\n      <td>0.8420</td>\n      <td>...</td>\n      <td>0.2020</td>\n      <td>167.798</td>\n      <td>['bass music', 'classic dubstep', 'deep dubste...</td>\n      <td>13485.0</td>\n      <td>https://open.spotify.com/track/35IlONRZh770GBV...</td>\n      <td>75zVSgFBHBMKniLe2HJyCE</td>\n      <td>Selección de Drum and Bass para sobrellevar la...</td>\n      <td>Drum and Bass 4 quarantine</td>\n      <td>https://open.spotify.com/playlist/75zVSgFBHBMK...</td>\n      <td>drum_n_bass</td>\n    </tr>\n    <tr>\n      <th>...</th>\n      <td>...</td>\n      <td>...</td>\n      <td>...</td>\n      <td>...</td>\n      <td>...</td>\n      <td>...</td>\n      <td>...</td>\n      <td>...</td>\n      <td>...</td>\n      <td>...</td>\n      <td>...</td>\n      <td>...</td>\n      <td>...</td>\n      <td>...</td>\n      <td>...</td>\n      <td>...</td>\n      <td>...</td>\n      <td>...</td>\n      <td>...</td>\n      <td>...</td>\n      <td>...</td>\n    </tr>\n    <tr>\n      <th>44767</th>\n      <td>47UyzXwzG856HaN8jwbadq</td>\n      <td>09hVIj6vWgoCDtT03h8ZCa</td>\n      <td>A Tribe Called Quest</td>\n      <td>Can I Kick It? - Extended Boilerhouse Mix</td>\n      <td>22</td>\n      <td>1992-06-01</td>\n      <td>399640</td>\n      <td>False</td>\n      <td>0.850</td>\n      <td>0.5390</td>\n      <td>...</td>\n      <td>0.7620</td>\n      <td>96.629</td>\n      <td>['alternative hip hop', 'conscious hip hop', '...</td>\n      <td>1543826.0</td>\n      <td>https://open.spotify.com/track/47UyzXwzG856HaN...</td>\n      <td>35VXF4KmO9u3IhtlKtpOee</td>\n      <td>Selection of the best remixes from the 90s Gol...</td>\n      <td>90s Hip Hop Remixes - Best 90s Hiphop Remixes ...</td>\n      <td>https://open.spotify.com/playlist/35VXF4KmO9u3...</td>\n      <td>hip_hop</td>\n    </tr>\n    <tr>\n      <th>44768</th>\n      <td>74FRlDfGO4Vj3WJXr6drzz</td>\n      <td>0jNDKefhfSbLR9sFvcPLHo</td>\n      <td>San Holo</td>\n      <td>when ur around (feat. San Holo, Taska Black, F...</td>\n      <td>31</td>\n      <td>2021-10-15</td>\n      <td>191367</td>\n      <td>False</td>\n      <td>0.344</td>\n      <td>0.6390</td>\n      <td>...</td>\n      <td>0.1090</td>\n      <td>127.971</td>\n      <td>['edm', 'electronic trap', 'electropop', 'futu...</td>\n      <td>642392.0</td>\n      <td>https://open.spotify.com/track/74FRlDfGO4Vj3WJ...</td>\n      <td>37i9dQZF1DXa41CMuUARjl</td>\n      <td>This week's handpicked new &lt;a href=\"spotify:ge...</td>\n      <td>Friday Cratediggers</td>\n      <td>https://open.spotify.com/playlist/37i9dQZF1DXa...</td>\n      <td>spotify_user</td>\n    </tr>\n    <tr>\n      <th>44771</th>\n      <td>4IBbOnEHtnxQri2hsqJMim</td>\n      <td>18TNVFTJ6WfeicsMRrdJHI</td>\n      <td>Metz</td>\n      <td>Drained Lake</td>\n      <td>0</td>\n      <td>2017-08-02</td>\n      <td>184894</td>\n      <td>False</td>\n      <td>0.285</td>\n      <td>0.9750</td>\n      <td>...</td>\n      <td>0.0382</td>\n      <td>88.926</td>\n      <td>['canadian punk', 'garage psych', 'indie punk'...</td>\n      <td>63310.0</td>\n      <td>https://open.spotify.com/track/4IBbOnEHtnxQri2...</td>\n      <td>4IhH6BT32s34nfWbYzsKM4</td>\n      <td>Trashy grunge riffs, dirty garage rock, fuzzy ...</td>\n      <td>GARAGE ROCK : Grunge, Punk, Garage Rock, Noise...</td>\n      <td>https://open.spotify.com/playlist/4IhH6BT32s34...</td>\n      <td>drum_n_bass</td>\n    </tr>\n    <tr>\n      <th>44772</th>\n      <td>2b0ki4EJ3WhObwx30dyIdf</td>\n      <td>5Vp7LqcfAtx2U1RfIX8i7r</td>\n      <td>Point North</td>\n      <td>Into The Dark (feat. Kellin Quinn)</td>\n      <td>0</td>\n      <td>2020-01-13</td>\n      <td>198000</td>\n      <td>False</td>\n      <td>0.544</td>\n      <td>0.9180</td>\n      <td>...</td>\n      <td>0.6000</td>\n      <td>95.021</td>\n      <td>['anthem emo', 'pop punk']</td>\n      <td>73050.0</td>\n      <td>https://open.spotify.com/track/2b0ki4EJ3WhObwx...</td>\n      <td>37i9dQZF1DWZkHEX2YHpDV</td>\n      <td>Call it pop-punk, emo, post-hardcore, whatever...</td>\n      <td>The Scene</td>\n      <td>https://open.spotify.com/playlist/37i9dQZF1DWZ...</td>\n      <td>spotify_user</td>\n    </tr>\n    <tr>\n      <th>44773</th>\n      <td>3Joxx2i2eMuZOSKrTh6CVy</td>\n      <td>0oSGxfWSnnOXhD2fKuz2Gy</td>\n      <td>David Bowie</td>\n      <td>Hallo Spaceboy (with the Pet Shop Boys) - Pet ...</td>\n      <td>23</td>\n      <td>2016-11-11</td>\n      <td>269440</td>\n      <td>False</td>\n      <td>0.539</td>\n      <td>0.9380</td>\n      <td>...</td>\n      <td>0.2860</td>\n      <td>129.622</td>\n      <td>['art rock', 'classic rock', 'glam rock', 'per...</td>\n      <td>7344090.0</td>\n      <td>https://open.spotify.com/track/3Joxx2i2eMuZOSK...</td>\n      <td>5daZAnlFSoDcysEafzysLx</td>\n      <td>Music from the Showtime TV-series Queer As Fol...</td>\n      <td>Queer As Folk: the Playlist</td>\n      <td>https://open.spotify.com/playlist/5daZAnlFSoDc...</td>\n      <td>folk</td>\n    </tr>\n  </tbody>\n</table>\n<p>29820 rows × 27 columns</p>\n</div>"
     },
     "execution_count": 22,
     "metadata": {},
     "output_type": "execute_result"
    }
   ],
   "source": [
    "data=data.drop_duplicates(subset=['name','artist_id'])\n",
    "\n",
    "data"
   ],
   "metadata": {
    "collapsed": false,
    "pycharm": {
     "name": "#%%\n"
    }
   }
  },
  {
   "cell_type": "code",
   "execution_count": 22,
   "outputs": [],
   "source": [],
   "metadata": {
    "collapsed": false,
    "pycharm": {
     "name": "#%%\n"
    }
   }
  }
 ],
 "metadata": {
  "kernelspec": {
   "display_name": "Python 3",
   "language": "python",
   "name": "python3"
  },
  "language_info": {
   "codemirror_mode": {
    "name": "ipython",
    "version": 2
   },
   "file_extension": ".py",
   "mimetype": "text/x-python",
   "name": "python",
   "nbconvert_exporter": "python",
   "pygments_lexer": "ipython2",
   "version": "2.7.6"
  }
 },
 "nbformat": 4,
 "nbformat_minor": 0
}